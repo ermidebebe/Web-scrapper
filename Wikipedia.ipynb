{
 "cells": [
  {
   "cell_type": "code",
   "execution_count": 1,
   "metadata": {},
   "outputs": [],
   "source": [
    "from selenium import webdriver\n",
    "from selenium.webdriver.chrome.options import Options\n",
    "from webdriver_manager.chrome import ChromeDriverManager\n",
    "import pandas as pd"
   ]
  },
  {
   "cell_type": "code",
   "execution_count": 2,
   "metadata": {},
   "outputs": [],
   "source": [
    "options = Options()\n",
    "options.add_argument(\"--headless\")"
   ]
  },
  {
   "cell_type": "code",
   "execution_count": 4,
   "metadata": {},
   "outputs": [
    {
     "name": "stderr",
     "output_type": "stream",
     "text": [
      "[WDM] - ====== WebDriver manager ======\n",
      "[WDM] - Current google-chrome version is 89.0.4389\n",
      "[WDM] - Get LATEST driver version for 89.0.4389\n"
     ]
    },
    {
     "name": "stdout",
     "output_type": "stream",
     "text": [
      "\n",
      "\n"
     ]
    },
    {
     "name": "stderr",
     "output_type": "stream",
     "text": [
      "[WDM] - Driver [C:\\Users\\Ermi\\.wdm\\drivers\\chromedriver\\win32\\89.0.4389.23\\chromedriver.exe] found in cache\n"
     ]
    }
   ],
   "source": [
    "driver = webdriver.Chrome(executable_path=ChromeDriverManager().install(), options=options)"
   ]
  },
  {
   "cell_type": "code",
   "execution_count": 5,
   "metadata": {},
   "outputs": [],
   "source": [
    "tables=pd.read_html(\"https://en.wikipedia.org/wiki/List_of_county_courthouses_in_Texas\")"
   ]
  },
  {
   "cell_type": "code",
   "execution_count": 6,
   "metadata": {},
   "outputs": [],
   "source": [
    "driver.get(\"https://en.wikipedia.org/wiki/List_of_county_courthouses_in_Texas\")"
   ]
  },
  {
   "cell_type": "code",
   "execution_count": 7,
   "metadata": {},
   "outputs": [
    {
     "name": "stderr",
     "output_type": "stream",
     "text": [
      "C:\\Users\\Ermi\\anaconda3\\lib\\site-packages\\pandas\\core\\indexing.py:670: SettingWithCopyWarning: \n",
      "A value is trying to be set on a copy of a slice from a DataFrame\n",
      "\n",
      "See the caveats in the documentation: https://pandas.pydata.org/pandas-docs/stable/user_guide/indexing.html#returning-a-view-versus-a-copy\n",
      "  iloc._setitem_with_indexer(indexer, value)\n"
     ]
    }
   ],
   "source": [
    "for i in range(1,tables[2].shape[0]+1):\n",
    "    try:\n",
    "        tables[2]['Image'].iloc[i-1]=driver.find_element_by_xpath(f'//*[@id=\"mw-content-text\"]/div[1]/table[3]/tbody/tr[{i}]/td[3]/a').get_attribute('href').split(':')[2]\n",
    "    except:\n",
    "        pass"
   ]
  },
  {
   "cell_type": "code",
   "execution_count": 8,
   "metadata": {},
   "outputs": [],
   "source": [
    "tables[2]['Latitude']=''\n",
    "for i in range(1,tables[2].shape[0]+1):\n",
    "    try:\n",
    "        tables[2]['Latitude'].iloc[i-1]=driver.find_element_by_xpath(f'//*[@id=\"mw-content-text\"]/div[1]/table[3]/tbody/tr[{i}]/td[4]/small/span/span/a/span[1]/span/span[1]').text\n",
    "    except:\n",
    "        pass\n",
    "    \n"
   ]
  },
  {
   "cell_type": "code",
   "execution_count": 9,
   "metadata": {},
   "outputs": [],
   "source": [
    "tables[2]['Longitude']=''\n",
    "for i in range(1,tables[2].shape[0]+1):\n",
    "    try:\n",
    "        tables[2]['Longitude'].iloc[i-1]=driver.find_element_by_xpath(f'//*[@id=\"mw-content-text\"]/div[1]/table[3]/tbody/tr[{i}]/td[4]/small/span/span/a/span[1]/span/span[2]').text\n",
    "    except:\n",
    "        pass"
   ]
  },
  {
   "cell_type": "code",
   "execution_count": 10,
   "metadata": {},
   "outputs": [
    {
     "data": {
      "text/html": [
       "<div>\n",
       "<style scoped>\n",
       "    .dataframe tbody tr th:only-of-type {\n",
       "        vertical-align: middle;\n",
       "    }\n",
       "\n",
       "    .dataframe tbody tr th {\n",
       "        vertical-align: top;\n",
       "    }\n",
       "\n",
       "    .dataframe thead th {\n",
       "        text-align: right;\n",
       "    }\n",
       "</style>\n",
       "<table border=\"1\" class=\"dataframe\">\n",
       "  <thead>\n",
       "    <tr style=\"text-align: right;\">\n",
       "      <th></th>\n",
       "      <th>Courthouse</th>\n",
       "      <th>Image</th>\n",
       "      <th>Latitude</th>\n",
       "      <th>Longitude</th>\n",
       "    </tr>\n",
       "  </thead>\n",
       "  <tbody>\n",
       "    <tr>\n",
       "      <th>0</th>\n",
       "      <td>Anderson County Courthouse</td>\n",
       "      <td>Anderson_courthouse_tx_2010.jpg</td>\n",
       "      <td>31°45′54″N</td>\n",
       "      <td>95°37′34″W</td>\n",
       "    </tr>\n",
       "    <tr>\n",
       "      <th>1</th>\n",
       "      <td>Andrews County Courthouse</td>\n",
       "      <td>Andrews_County_Courthouse,_Andrews,_Texas.jpg</td>\n",
       "      <td>32°19′12.1″N</td>\n",
       "      <td>102°32′50.2″W</td>\n",
       "    </tr>\n",
       "    <tr>\n",
       "      <th>2</th>\n",
       "      <td>Angelina County Courthouse</td>\n",
       "      <td>Angelina_county_tx_courthouse_2015.jpg</td>\n",
       "      <td>31°20′20.7″N</td>\n",
       "      <td>94°43′37.4″W</td>\n",
       "    </tr>\n",
       "    <tr>\n",
       "      <th>3</th>\n",
       "      <td>Aransas County Courthouse</td>\n",
       "      <td>Aransas_county_courthouse_2014.jpg</td>\n",
       "      <td>28°01′34.0″N</td>\n",
       "      <td>97°03′10.9″W</td>\n",
       "    </tr>\n",
       "    <tr>\n",
       "      <th>4</th>\n",
       "      <td>Archer County Courthouse</td>\n",
       "      <td>Archer_courthouse.jpg</td>\n",
       "      <td>33°35′42″N</td>\n",
       "      <td>98°37′31″W</td>\n",
       "    </tr>\n",
       "    <tr>\n",
       "      <th>...</th>\n",
       "      <td>...</td>\n",
       "      <td>...</td>\n",
       "      <td>...</td>\n",
       "      <td>...</td>\n",
       "    </tr>\n",
       "    <tr>\n",
       "      <th>273</th>\n",
       "      <td>Wood County Courthouse</td>\n",
       "      <td>Wood_courthouse_tx_2010.jpg</td>\n",
       "      <td>32°47′44.8″N</td>\n",
       "      <td>95°27′7.9″W</td>\n",
       "    </tr>\n",
       "    <tr>\n",
       "      <th>274</th>\n",
       "      <td>Yoakum County Courthouse</td>\n",
       "      <td>YoakumCo_TX_2009.JPG</td>\n",
       "      <td>33°11′21.1″N</td>\n",
       "      <td>102°49′44.1″W</td>\n",
       "    </tr>\n",
       "    <tr>\n",
       "      <th>275</th>\n",
       "      <td>Young County Courthouse</td>\n",
       "      <td>Young_County_courthouse_in_Graham,_Texas.jpg</td>\n",
       "      <td>33°06′22.4″N</td>\n",
       "      <td>98°35′25.6″W</td>\n",
       "    </tr>\n",
       "    <tr>\n",
       "      <th>276</th>\n",
       "      <td>Zapata County Courthouse</td>\n",
       "      <td>Zapata_County,_TX,_Courthouse_IMG_2030.JPG</td>\n",
       "      <td>26°54′8.1″N</td>\n",
       "      <td>99°15′56.4″W</td>\n",
       "    </tr>\n",
       "    <tr>\n",
       "      <th>277</th>\n",
       "      <td>Zavala County Courthouse</td>\n",
       "      <td>Zavala_County,_TX,_Courthouse_IMG_4236.JPG</td>\n",
       "      <td>28°40′46.2″N</td>\n",
       "      <td>99°49′37.1″W</td>\n",
       "    </tr>\n",
       "  </tbody>\n",
       "</table>\n",
       "<p>278 rows × 4 columns</p>\n",
       "</div>"
      ],
      "text/plain": [
       "                     Courthouse  \\\n",
       "0    Anderson County Courthouse   \n",
       "1     Andrews County Courthouse   \n",
       "2    Angelina County Courthouse   \n",
       "3     Aransas County Courthouse   \n",
       "4      Archer County Courthouse   \n",
       "..                          ...   \n",
       "273      Wood County Courthouse   \n",
       "274    Yoakum County Courthouse   \n",
       "275     Young County Courthouse   \n",
       "276    Zapata County Courthouse   \n",
       "277    Zavala County Courthouse   \n",
       "\n",
       "                                             Image      Latitude  \\\n",
       "0                  Anderson_courthouse_tx_2010.jpg    31°45′54″N   \n",
       "1    Andrews_County_Courthouse,_Andrews,_Texas.jpg  32°19′12.1″N   \n",
       "2           Angelina_county_tx_courthouse_2015.jpg  31°20′20.7″N   \n",
       "3               Aransas_county_courthouse_2014.jpg  28°01′34.0″N   \n",
       "4                            Archer_courthouse.jpg    33°35′42″N   \n",
       "..                                             ...           ...   \n",
       "273                    Wood_courthouse_tx_2010.jpg  32°47′44.8″N   \n",
       "274                           YoakumCo_TX_2009.JPG  33°11′21.1″N   \n",
       "275   Young_County_courthouse_in_Graham,_Texas.jpg  33°06′22.4″N   \n",
       "276     Zapata_County,_TX,_Courthouse_IMG_2030.JPG   26°54′8.1″N   \n",
       "277     Zavala_County,_TX,_Courthouse_IMG_4236.JPG  28°40′46.2″N   \n",
       "\n",
       "         Longitude  \n",
       "0       95°37′34″W  \n",
       "1    102°32′50.2″W  \n",
       "2     94°43′37.4″W  \n",
       "3     97°03′10.9″W  \n",
       "4       98°37′31″W  \n",
       "..             ...  \n",
       "273    95°27′7.9″W  \n",
       "274  102°49′44.1″W  \n",
       "275   98°35′25.6″W  \n",
       "276   99°15′56.4″W  \n",
       "277   99°49′37.1″W  \n",
       "\n",
       "[278 rows x 4 columns]"
      ]
     },
     "execution_count": 10,
     "metadata": {},
     "output_type": "execute_result"
    }
   ],
   "source": [
    "tables[2][['Courthouse','Image','Latitude','Longitude']]"
   ]
  },
  {
   "cell_type": "code",
   "execution_count": null,
   "metadata": {},
   "outputs": [],
   "source": [
    "tables[2][['Courthouse','Image','Latitude','Longitude']].to_csv('courthouse.csv')"
   ]
  }
 ],
 "metadata": {
  "kernelspec": {
   "display_name": "Python 3",
   "language": "python",
   "name": "python3"
  },
  "language_info": {
   "codemirror_mode": {
    "name": "ipython",
    "version": 3
   },
   "file_extension": ".py",
   "mimetype": "text/x-python",
   "name": "python",
   "nbconvert_exporter": "python",
   "pygments_lexer": "ipython3",
   "version": "3.7.6"
  }
 },
 "nbformat": 4,
 "nbformat_minor": 4
}
